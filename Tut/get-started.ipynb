{
 "cells": [
  {
   "cell_type": "code",
   "execution_count": 4,
   "id": "ac5afffc",
   "metadata": {},
   "outputs": [],
   "source": [
    "import mlflow"
   ]
  },
  {
   "cell_type": "code",
   "execution_count": 5,
   "id": "23615b12",
   "metadata": {},
   "outputs": [
    {
     "name": "stderr",
     "output_type": "stream",
     "text": [
      "2025/08/22 20:03:41 INFO mlflow.tracking.fluent: Experiment with name 'http://127.0.0.1:5000/' does not exist. Creating a new experiment.\n"
     ]
    },
    {
     "data": {
      "text/plain": [
       "<Experiment: artifact_location='file:///Users/navdeepsingh/MLOPS%20Tut/MLFlowTut/mlruns/814762403330889930', creation_time=1755918221943, experiment_id='814762403330889930', last_update_time=1755918221943, lifecycle_stage='active', name='http://127.0.0.1:5000/', tags={}>"
      ]
     },
     "execution_count": 5,
     "metadata": {},
     "output_type": "execute_result"
    }
   ],
   "source": [
    "mlflow.set_experiment(\"http://127.0.0.1:5000/\")"
   ]
  },
  {
   "cell_type": "code",
   "execution_count": 6,
   "id": "bb03406c-2ef5-44bf-a142-33650bdc9f92",
   "metadata": {},
   "outputs": [
    {
     "name": "stderr",
     "output_type": "stream",
     "text": [
      "2025/08/22 20:03:41 INFO mlflow.tracking.fluent: Experiment with name 'Check Localhost Connection' does not exist. Creating a new experiment.\n"
     ]
    }
   ],
   "source": [
    "mlflow.set_experiment(\"Check Localhost Connection\")\n",
    "\n",
    "with mlflow.start_run():\n",
    "    mlflow.log_metric(\"Navdeep\",1)\n",
    "    mlflow.log_metric(\"Yash\",2)"
   ]
  },
  {
   "cell_type": "code",
   "execution_count": null,
   "id": "455eb526-abd0-46e3-b607-65e7b31c592e",
   "metadata": {},
   "outputs": [],
   "source": []
  }
 ],
 "metadata": {
  "kernelspec": {
   "display_name": "Python 3 (ipykernel)",
   "language": "python",
   "name": "python3"
  },
  "language_info": {
   "codemirror_mode": {
    "name": "ipython",
    "version": 3
   },
   "file_extension": ".py",
   "mimetype": "text/x-python",
   "name": "python",
   "nbconvert_exporter": "python",
   "pygments_lexer": "ipython3",
   "version": "3.12.4"
  }
 },
 "nbformat": 4,
 "nbformat_minor": 5
}
