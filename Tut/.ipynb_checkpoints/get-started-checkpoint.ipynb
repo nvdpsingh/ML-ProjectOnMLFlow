{
 "cells": [
  {
   "cell_type": "code",
   "execution_count": null,
   "id": "ac5afffc",
   "metadata": {},
   "outputs": [],
   "source": [
    "print(\"Hello World\")"
   ]
  },
  {
   "cell_type": "code",
   "execution_count": null,
   "id": "23615b12",
   "metadata": {},
   "outputs": [],
   "source": []
  }
 ],
 "metadata": {
  "language_info": {
   "name": "python"
  }
 },
 "nbformat": 4,
 "nbformat_minor": 5
}
